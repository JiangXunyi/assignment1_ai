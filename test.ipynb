{
 "cells": [
  {
   "cell_type": "code",
   "execution_count": 2,
   "metadata": {},
   "outputs": [],
   "source": [
    "import pandas as pd\n",
    "import numpy as np\n",
    "from PIL import Image \n"
   ]
  },
  {
   "cell_type": "code",
   "execution_count": 36,
   "metadata": {},
   "outputs": [],
   "source": [
    "I = Image.open('data/target/target1.jpg') \n",
    "I_np = np.array(I)\n",
    "I_tra = np.transpose(I_np)\n",
    "#[np.histogram(i)[0] for i in I_np]"
   ]
  },
  {
   "cell_type": "code",
   "execution_count": 33,
   "metadata": {},
   "outputs": [
    {
     "data": {
      "text/plain": [
       "array([ 752,  390, 1036,  257,  684,  876,  404,  306,  200,  189])"
      ]
     },
     "execution_count": 33,
     "metadata": {},
     "output_type": "execute_result"
    }
   ],
   "source": [
    "np.histogram(I[:,:,0])[0]"
   ]
  },
  {
   "cell_type": "code",
   "execution_count": 49,
   "metadata": {},
   "outputs": [
    {
     "name": "stdout",
     "output_type": "stream",
     "text": [
      "3.7416573867739413\n"
     ]
    },
    {
     "data": {
      "text/plain": [
       "1.0"
      ]
     },
     "execution_count": 49,
     "metadata": {},
     "output_type": "execute_result"
    }
   ],
   "source": [
    "x = np.array([1,2,3])\n",
    "vector = x.flatten()\n",
    "norm = np.linalg.norm(vector)\n",
    "print(norm)\n",
    "np.dot(x, x.T)/(norm*norm)\n"
   ]
  },
  {
   "cell_type": "code",
   "execution_count": 31,
   "metadata": {},
   "outputs": [
    {
     "data": {
      "text/plain": [
       "[array([0, 0, 0, 0, 0, 1, 0, 0, 0, 0])]"
      ]
     },
     "execution_count": 31,
     "metadata": {},
     "output_type": "execute_result"
    }
   ],
   "source": [
    "x = np.zeros((3,20,20))\n",
    "I = np.transpose(I)\n",
    "[np.histogram(i)[0] for i in I]"
   ]
  },
  {
   "cell_type": "code",
   "execution_count": 39,
   "metadata": {},
   "outputs": [
    {
     "data": {
      "text/plain": [
       "(1131, 1698)"
      ]
     },
     "execution_count": 39,
     "metadata": {},
     "output_type": "execute_result"
    }
   ],
   "source": [
    "np.shape(np.array(I.convert('P')))"
   ]
  },
  {
   "cell_type": "code",
   "execution_count": 43,
   "metadata": {},
   "outputs": [
    {
     "name": "stdout",
     "output_type": "stream",
     "text": [
      "1920438\n"
     ]
    },
    {
     "data": {
      "text/plain": [
       "0.0006715543231437191"
      ]
     },
     "execution_count": 43,
     "metadata": {},
     "output_type": "execute_result"
    }
   ],
   "source": [
    "vector = np.array(I.convert('P')).flatten()\n",
    "print(len(vector))\n",
    "norm = np.linalg.norm(vector)\n",
    "np.dot(vector, vector.T)/norm"
   ]
  },
  {
   "cell_type": "code",
   "execution_count": 3,
   "metadata": {},
   "outputs": [],
   "source": [
    "def hex2rgb(hex):\n",
    "    r = int('0x' + hex[1:3],16)\n",
    "    g = int('0x' + hex[3:5],16)\n",
    "    b = int('0x' + hex[5:],16)\n",
    "    return (r,g,b)"
   ]
  },
  {
   "cell_type": "code",
   "execution_count": 4,
   "metadata": {},
   "outputs": [],
   "source": [
    "list_color = ['#47493c','#cdcaa8','#494630','#7c95ac','#7c95ac','#7c95ac','#506b8b','#19180e','#748570','#241b14','#b48c2c','#6495ED',\n",
    "'#87CEFA','#90EE90','#F5F5DC','#FFE4B5','#FFFFFF','#800000']\n",
    "for i in range(len(list_color)):\n",
    "    Image.new(\"RGB\",size = (256,256),color = hex2rgb(list_color[i])).save('data/pure_color/%s.jpg' % (list_color[i]))\n",
    "    \n",
    "\n",
    "#Image.new(\"RGB\",size = (256,256),color = hex2rgb('#47493c') )"
   ]
  },
  {
   "cell_type": "code",
   "execution_count": 6,
   "metadata": {},
   "outputs": [
    {
     "data": {
      "text/plain": [
       "[71, 73, 60]"
      ]
     },
     "execution_count": 6,
     "metadata": {},
     "output_type": "execute_result"
    }
   ],
   "source": [
    "list_color = []\n"
   ]
  },
  {
   "cell_type": "code",
   "execution_count": null,
   "metadata": {},
   "outputs": [],
   "source": []
  }
 ],
 "metadata": {
  "kernelspec": {
   "display_name": "Python 3.9.12 ('myEnv')",
   "language": "python",
   "name": "python3"
  },
  "language_info": {
   "codemirror_mode": {
    "name": "ipython",
    "version": 3
   },
   "file_extension": ".py",
   "mimetype": "text/x-python",
   "name": "python",
   "nbconvert_exporter": "python",
   "pygments_lexer": "ipython3",
   "version": "3.9.12"
  },
  "orig_nbformat": 4,
  "vscode": {
   "interpreter": {
    "hash": "8d511ecf47e37874b67868b64cf799c0578a6f729d52bb04263c873a635bf916"
   }
  }
 },
 "nbformat": 4,
 "nbformat_minor": 2
}
